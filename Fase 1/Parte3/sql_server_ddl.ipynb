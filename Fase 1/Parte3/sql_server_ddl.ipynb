{
    "metadata": {
        "kernelspec": {
            "name": "SQL",
            "display_name": "SQL",
            "language": "sql"
        },
        "language_info": {
            "name": "sql",
            "version": ""
        }
    },
    "nbformat_minor": 2,
    "nbformat": 4,
    "cells": [
        {
            "cell_type": "markdown",
            "source": [
                "# Data Definition Language"
            ],
            "metadata": {
                "azdata_cell_guid": "0542ac65-c859-4b97-93c0-8fb28205ee8d"
            },
            "attachments": {}
        },
        {
            "cell_type": "markdown",
            "source": [
                "## Tipos de datos\n",
                "### Exact numerics\n",
                "* bigint\n",
                "* numeric\n",
                "* bit\n",
                "* smallint\n",
                "* decimal (se tiene que especificar número de decimales)\n",
                "* int\n",
                "* money\n",
                "* smallmoney\n",
                "\n",
                "### Approximante numerics\n",
                "* float\n",
                "* real\n",
                "\n",
                "### Character strings\n",
                "* char\n",
                "* varchar\n",
                "* text\n",
                "\n",
                "### Unicode strings\n",
                "* nchar\n",
                "* nvarchar\n",
                "* ntext\n",
                "\n",
                "### Date and time\n",
                "* date\n",
                "* datetimeoffset\n",
                "* datetime\n",
                "* smalldatetime\n",
                "* datetime2\n",
                "* time\n",
                "\n",
                "### Binary string\n",
                "* binary\n",
                "* varbinary\n",
                "* image\n",
                "\n",
                "## Proyección SELECT\n",
                "\n",
                "\n",
                "\n",
                "\n",
                "## Operadores condicionales"
            ],
            "metadata": {
                "azdata_cell_guid": "3d772b1f-295d-4647-b246-df47d8320ab9"
            },
            "attachments": {}
        },
        {
            "cell_type": "markdown",
            "source": [
                "## Conversión de datos"
            ],
            "metadata": {
                "azdata_cell_guid": "12569eb0-a721-4de8-be72-92924d4df070"
            },
            "attachments": {}
        },
        {
            "cell_type": "code",
            "source": [
                "CREATE DATABASE test1;\r\n",
                "GO\r\n",
                "\r\n",
                "USE test1;\r\n",
                "GO\r\n",
                "\r\n",
                "DECLARE @my_not_string INT;\r\n",
                "-- Este es estandar de SQL\r\n",
                "SET @my_not_string = CONVERT(INT, '10');\r\n",
                "\r\n",
                "-- Este es exclusivo de SQL Server, pero tiene mas soporte para conversiones entre distintos tipos\r\n",
                "SET @my_not_string = CAST('10' AS INT);\r\n",
                "\r\n",
                "SELECT @my_not_string + 1;"
            ],
            "metadata": {
                "azdata_cell_guid": "066fe9e6-a863-45d8-af37-f4f041d8b25b",
                "language": "sql"
            },
            "outputs": [
                {
                    "output_type": "display_data",
                    "data": {
                        "text/html": "(1 row affected)"
                    },
                    "metadata": {}
                },
                {
                    "output_type": "display_data",
                    "data": {
                        "text/html": "Total execution time: 00:00:00.014"
                    },
                    "metadata": {}
                },
                {
                    "output_type": "execute_result",
                    "metadata": {},
                    "execution_count": 7,
                    "data": {
                        "application/vnd.dataresource+json": {
                            "schema": {
                                "fields": [
                                    {
                                        "name": "(No column name)"
                                    }
                                ]
                            },
                            "data": [
                                {
                                    "0": "11"
                                }
                            ]
                        },
                        "text/html": [
                            "<table>",
                            "<tr><th>(No column name)</th></tr>",
                            "<tr><td>11</td></tr>",
                            "</table>"
                        ]
                    }
                }
            ],
            "execution_count": 7
        }
    ]
}