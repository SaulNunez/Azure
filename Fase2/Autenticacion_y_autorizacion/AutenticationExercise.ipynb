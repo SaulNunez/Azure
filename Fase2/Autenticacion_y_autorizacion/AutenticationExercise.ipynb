{
    "metadata": {
        "kernelspec": {
            "name": "SQL",
            "display_name": "SQL",
            "language": "sql"
        },
        "language_info": {
            "name": "sql",
            "version": ""
        }
    },
    "nbformat_minor": 2,
    "nbformat": 4,
    "cells": [
        {
            "cell_type": "markdown",
            "source": [
                "# Ejercicio de autenticación\n",
                "\n",
                "Paso 1: Crear dos usuarios llamados <span style=\"color: rgb(163, 21, 21); font-family: &quot;Droid Sans Mono&quot;, monospace, monospace, &quot;Droid Sans Fallback&quot;; font-size: 12px; white-space: pre;\">DP300User1</span> y <span style=\"color: rgb(163, 21, 21); font-family: &quot;Droid Sans Mono&quot;, monospace, monospace, &quot;Droid Sans Fallback&quot;; font-size: 12px; white-space: pre;\">DP300User2</span>"
            ],
            "metadata": {
                "azdata_cell_guid": "4e81521a-c5de-46d4-b3b6-a8eb9fe60e6a"
            },
            "attachments": {}
        },
        {
            "cell_type": "code",
            "source": [
                "CREATE USER DP300User1 WITH PASSWORD = '1234';\r\n",
                "CREATE USER DP300User2 WITH PASSWORD = '1234';"
            ],
            "metadata": {
                "azdata_cell_guid": "68cfb857-0542-4185-8ab9-ab4a5ae02287",
                "language": "sql"
            },
            "outputs": [],
            "execution_count": null
        },
        {
            "cell_type": "markdown",
            "source": [
                "Paso 2: Crear un rol llamado \"<span style=\"color: rgb(33, 33, 33); font-family: &quot;Droid Sans Mono&quot;, monospace, monospace, &quot;Droid Sans Fallback&quot;; font-size: 12px; white-space: pre;\">SalesReader</span>\", añadir a los dos usuarios al rol"
            ],
            "metadata": {
                "language": "sql",
                "azdata_cell_guid": "5b681f04-de94-4097-b46b-fb3d9a4dc60d"
            },
            "attachments": {}
        },
        {
            "cell_type": "code",
            "source": [
                "CREATE ROLE SalesReader;"
            ],
            "metadata": {
                "language": "sql",
                "azdata_cell_guid": "44564064-5dbb-4e6d-a6a8-76f5988b5b13"
            },
            "outputs": [
                {
                    "output_type": "display_data",
                    "data": {
                        "text/html": "Commands completed successfully."
                    },
                    "metadata": {}
                },
                {
                    "output_type": "display_data",
                    "data": {
                        "text/html": "Total execution time: 00:00:00.003"
                    },
                    "metadata": {}
                }
            ],
            "execution_count": 1
        },
        {
            "cell_type": "markdown",
            "source": [
                "Paso 3: Crear el siguiente procedimiento almacenado"
            ],
            "metadata": {
                "language": "sql",
                "azdata_cell_guid": "f8cab219-14fc-4808-9ab3-733c62fb06b9"
            },
            "attachments": {}
        },
        {
            "cell_type": "code",
            "source": [
                "CREATE OR ALTER PROCEDURE SalesLT.DemoProc\n",
                "AS\n",
                "    SELECT P.Name, Sum(SOD.LineTotal) as TotalSales ,SOH.OrderDate\n",
                "    FROM SalesLT.Product P\n",
                "    INNER JOIN SalesLT.SalesOrderDetail SOD on SOD.ProductID = P.ProductID\n",
                "    INNER JOIN SalesLT.SalesOrderHeader SOH on SOH.SalesOrderID = SOD.SalesOrderID\n",
                "    GROUP BY P.Name, SOH.OrderDate\n",
                "    ORDER BY TotalSales DESC\n",
                "GO"
            ],
            "metadata": {
                "language": "sql",
                "azdata_cell_guid": "a0d2e380-5715-4963-b6b6-25e73d9c6cdc"
            },
            "outputs": [
                {
                    "output_type": "error",
                    "evalue": "Msg 2760, Level 16, State 1, Procedure DemoProc, Line 1\r\nThe specified schema name \"SalesLT\" either does not exist or you do not have permission to use it.",
                    "ename": "",
                    "traceback": []
                },
                {
                    "output_type": "display_data",
                    "data": {
                        "text/html": "Total execution time: 00:00:00"
                    },
                    "metadata": {}
                }
            ],
            "execution_count": 3
        },
        {
            "cell_type": "markdown",
            "source": [
                "Paso 4: Probar la ejecución del procedimiento almacenado como el usuario <span style=\"color: rgb(163, 21, 21); font-family: &quot;Droid Sans Mono&quot;, monospace, monospace, &quot;Droid Sans Fallback&quot;; font-size: 12px; white-space: pre;\">DP300User1</span>"
            ],
            "metadata": {
                "language": "sql",
                "azdata_cell_guid": "3a0cc50e-43a4-4ae7-8292-0a0a88cf5611"
            },
            "attachments": {}
        },
        {
            "cell_type": "code",
            "source": [
                "EXECUTE AS USER = 'DP300User1'\n",
                "EXECUTE SalesLT.DemoProc\n",
                "REVERT;"
            ],
            "metadata": {
                "language": "sql",
                "azdata_cell_guid": "552a067f-7e5a-4b05-b275-9282ba55f4b0",
                "tags": []
            },
            "outputs": [],
            "execution_count": null
        },
        {
            "cell_type": "markdown",
            "source": [
                "Paso 5: Otorgar el permiso de ejecución en el esquema SalesLT al rol <span style=\"color: rgb(33, 33, 33); font-family: &quot;Droid Sans Mono&quot;, monospace, monospace, &quot;Droid Sans Fallback&quot;; font-size: 12px; white-space: pre;\">SalesReader</span>"
            ],
            "metadata": {
                "language": "sql",
                "azdata_cell_guid": "0a851fc5-2d06-42f0-91f0-1e3164e4c21a"
            },
            "attachments": {}
        },
        {
            "cell_type": "code",
            "source": [
                ""
            ],
            "metadata": {
                "language": "sql",
                "azdata_cell_guid": "8363c9be-02b7-4c03-9d84-72212665deb9"
            },
            "outputs": [],
            "execution_count": null
        },
        {
            "cell_type": "markdown",
            "source": [
                "Paso 6: Probar nuevamente la ejecución del procedimiento almacenado como el usuario <span style=\"color: rgb(163, 21, 21); font-family: &quot;Droid Sans Mono&quot;, monospace, monospace, &quot;Droid Sans Fallback&quot;; font-size: 12px; white-space: pre;\">DP300User1</span>"
            ],
            "metadata": {
                "language": "sql",
                "azdata_cell_guid": "d6a3acd3-beee-4fb2-90f5-6f11f84cbb5d"
            },
            "attachments": {}
        },
        {
            "cell_type": "code",
            "source": [
                "EXECUTE AS USER = 'DP300User1'\n",
                "EXECUTE SalesLT.DemoProc\n",
                "REVERT;"
            ],
            "metadata": {
                "language": "sql",
                "azdata_cell_guid": "cb58a21d-27a3-445f-854c-fa39cfed968c",
                "tags": [
                    "hide_input"
                ]
            },
            "outputs": [],
            "execution_count": null
        },
        {
            "cell_type": "markdown",
            "source": [
                "Paso 7: Probar a leer la tabla de productos directamente"
            ],
            "metadata": {
                "azdata_cell_guid": "4507218c-79b9-4f72-a204-b30d129bb43d"
            },
            "attachments": {}
        },
        {
            "cell_type": "code",
            "source": [
                "EXECUTE AS USER = 'DP300User1';\r\n",
                "EXECUTE SalesLT.DemoProc;\r\n",
                "REVERT;"
            ],
            "metadata": {
                "azdata_cell_guid": "f15174f7-2b0f-4450-9ebd-f33e0662cccc",
                "language": "sql"
            },
            "outputs": [],
            "execution_count": null
        },
        {
            "cell_type": "markdown",
            "source": [
                "Paso 8: Borrar todo"
            ],
            "metadata": {
                "azdata_cell_guid": "e8f52984-46ee-4a43-8e84-36e833071c87"
            },
            "attachments": {}
        },
        {
            "cell_type": "code",
            "source": [
                "ALTER ROLE SalesReader DROP MEMBER DP300User1;\r\n",
                "ALTER ROLE SalesReader DROP MEMBER DP300User2;\r\n",
                "\r\n",
                "DROP ROLE SalesReader;\r\n",
                "DROP PROC  SalesLT.DemoProc;\r\n",
                "\r\n",
                "DROP USER [DP300User1]\r\n",
                "DROP USER [DP300User2]"
            ],
            "metadata": {
                "azdata_cell_guid": "f2b78777-237c-4e84-932a-2db54d109173",
                "language": "sql"
            },
            "outputs": [],
            "execution_count": null
        }
    ]
}