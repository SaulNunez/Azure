{
    "metadata": {
        "kernelspec": {
            "name": "SQL",
            "display_name": "SQL",
            "language": "sql"
        },
        "language_info": {
            "name": "sql",
            "version": ""
        }
    },
    "nbformat_minor": 2,
    "nbformat": 4,
    "cells": [
        {
            "cell_type": "markdown",
            "source": [
                "# Partition Switching\n",
                "\n",
                "Uno de los beneficios del particionado es la capacidad de transferir los datos de una partición de una tabla hacia otra partición de forma casi instantanea, esto es sumamente útil cuando se trabaja con cargas de trabajo OLAP debido a que se puede cargar los datos en una tabla intermedia sin interferir en la tabla principal, reduciendo problemas de bloqueo y concurrencia, además no los reportes que involucren los nuevos datos se siempre se harán de forma completa una vez esten disponibles. Otra utilidad de partition switching es para el proceso de archiving, debido a que se pueden mover los datos de una forma muy rapida."
            ],
            "metadata": {
                "azdata_cell_guid": "d3fd4f84-22a8-470c-95eb-04a33dda9ce1"
            },
            "attachments": {}
        },
        {
            "cell_type": "code",
            "source": [
                "CREATE DATABASE PartitionTestDB"
            ],
            "metadata": {
                "azdata_cell_guid": "f59fd827-bdf1-429e-8420-0a98026bbcfd",
                "language": "sql"
            },
            "outputs": [
                {
                    "output_type": "display_data",
                    "data": {
                        "text/html": "Commands completed successfully."
                    },
                    "metadata": {}
                },
                {
                    "output_type": "display_data",
                    "data": {
                        "text/html": "Total execution time: 00:00:00.510"
                    },
                    "metadata": {}
                }
            ],
            "execution_count": 2
        },
        {
            "cell_type": "code",
            "source": [
                "USE PartitionTestDB\r\n",
                "\r\n",
                "\r\n",
                "IF OBJECT_ID('dbo.GetNums') IS NOT NULL\r\n",
                "  DROP FUNCTION dbo.GetNums;\r\n",
                "GO\r\n",
                " \r\n",
                "CREATE FUNCTION dbo.GetNums(@n AS BIGINT) RETURNS TABLE AS RETURN\r\n",
                "  WITH\r\n",
                "  L0   AS(SELECT 1 AS c UNION ALL SELECT 1),\r\n",
                "  L1   AS(SELECT 1 AS c FROM L0 AS A CROSS JOIN L0 AS B),\r\n",
                "  L2   AS(SELECT 1 AS c FROM L1 AS A CROSS JOIN L1 AS B),\r\n",
                "  L3   AS(SELECT 1 AS c FROM L2 AS A CROSS JOIN L2 AS B),\r\n",
                "  L4   AS(SELECT 1 AS c FROM L3 AS A CROSS JOIN L3 AS B),\r\n",
                "  L5   AS(SELECT 1 AS c FROM L4 AS A CROSS JOIN L4 AS B),\r\n",
                "  Nums AS(SELECT ROW_NUMBER() OVER(ORDER BY (SELECT NULL)) AS n FROM L5)\r\n",
                "  SELECT TOP (@n) n FROM Nums ORDER BY n;\r\n",
                "GO"
            ],
            "metadata": {
                "language": "sql",
                "azdata_cell_guid": "bb326317-a316-4386-bd3c-cdd06b5f3a0d"
            },
            "outputs": [
                {
                    "output_type": "display_data",
                    "data": {
                        "text/html": "Commands completed successfully."
                    },
                    "metadata": {}
                },
                {
                    "output_type": "display_data",
                    "data": {
                        "text/html": "Commands completed successfully."
                    },
                    "metadata": {}
                },
                {
                    "output_type": "display_data",
                    "data": {
                        "text/html": "Total execution time: 00:00:00.016"
                    },
                    "metadata": {}
                }
            ],
            "execution_count": 3
        },
        {
            "cell_type": "markdown",
            "source": [
                "## Switch en tablas sin particionar"
            ],
            "metadata": {
                "azdata_cell_guid": "1233bff0-79bc-42b3-ba7f-fe222bd6d92d"
            },
            "attachments": {}
        },
        {
            "cell_type": "markdown",
            "source": [
                "**1\\. Setup de las tablas**"
            ],
            "metadata": {
                "azdata_cell_guid": "c3ee8e9a-b582-459e-9d97-dfba47c4a23c"
            },
            "attachments": {}
        },
        {
            "cell_type": "code",
            "source": [
                "-- Drop objects if they already exist\r\n",
                "IF EXISTS (SELECT * FROM sys.tables WHERE name = N'SalesSource')\r\n",
                "  DROP TABLE SalesSource;\r\n",
                "IF EXISTS (SELECT * FROM sys.tables WHERE name = N'SalesTarget')\r\n",
                "  DROP TABLE SalesTarget;\r\n",
                "-- Create the Non-Partitioned Source Table (Heap) on the [PRIMARY] filegroup\r\n",
                "CREATE TABLE SalesSource (\r\n",
                "  SalesDate DATE,\r\n",
                "  Quantity INT\r\n",
                ") ON [PRIMARY];\r\n",
                "\r\n",
                "-- Insert test data\r\n",
                "INSERT INTO SalesSource(SalesDate, Quantity)\r\n",
                "SELECT DATEADD(DAY,dates.n-1,'2012-01-01') AS SalesDate, qty.n AS Quantity\r\n",
                "FROM dbo.GetNums(DATEDIFF(DD,'2012-01-01','2016-01-01')) dates\r\n",
                "CROSS JOIN dbo.GetNums(1000) AS qty;\r\n",
                "-- Create the Non-Partitioned Target Table (Heap) on the [PRIMARY] filegroup\r\n",
                "CREATE TABLE SalesTarget (\r\n",
                "  SalesDate DATE,\r\n",
                "  Quantity INT\r\n",
                ") ON [PRIMARY];"
            ],
            "metadata": {
                "azdata_cell_guid": "d0450a4a-ec85-4f0b-a91b-2b15f6dcb839",
                "language": "sql"
            },
            "outputs": [
                {
                    "output_type": "display_data",
                    "data": {
                        "text/html": "(1461000 rows affected)"
                    },
                    "metadata": {}
                },
                {
                    "output_type": "display_data",
                    "data": {
                        "text/html": "Total execution time: 00:00:05.821"
                    },
                    "metadata": {}
                }
            ],
            "execution_count": 4
        },
        {
            "cell_type": "markdown",
            "source": [
                "**2\\. Visualizar número de renglones en tabla objetivo y tabla destino**"
            ],
            "metadata": {
                "language": "sql",
                "azdata_cell_guid": "d0bdd06b-f081-4ea1-a6a6-d9aaaba24d32"
            },
            "attachments": {}
        },
        {
            "cell_type": "code",
            "source": [
                "SELECT COUNT(*) FROM SalesSource; \r\n",
                "SELECT COUNT(*) FROM SalesTarget; "
            ],
            "metadata": {
                "language": "sql",
                "azdata_cell_guid": "0eb351c8-e6a7-4e74-b7fa-8d120983b391"
            },
            "outputs": [
                {
                    "output_type": "display_data",
                    "data": {
                        "text/html": "(1 row affected)"
                    },
                    "metadata": {}
                },
                {
                    "output_type": "display_data",
                    "data": {
                        "text/html": "(1 row affected)"
                    },
                    "metadata": {}
                },
                {
                    "output_type": "display_data",
                    "data": {
                        "text/html": "Total execution time: 00:00:00.146"
                    },
                    "metadata": {}
                },
                {
                    "output_type": "execute_result",
                    "metadata": {},
                    "execution_count": 5,
                    "data": {
                        "application/vnd.dataresource+json": {
                            "schema": {
                                "fields": [
                                    {
                                        "name": "(No column name)"
                                    }
                                ]
                            },
                            "data": [
                                {
                                    "0": "1461000"
                                }
                            ]
                        },
                        "text/html": [
                            "<table>",
                            "<tr><th>(No column name)</th></tr>",
                            "<tr><td>1461000</td></tr>",
                            "</table>"
                        ]
                    }
                },
                {
                    "output_type": "execute_result",
                    "metadata": {},
                    "execution_count": 5,
                    "data": {
                        "application/vnd.dataresource+json": {
                            "schema": {
                                "fields": [
                                    {
                                        "name": "(No column name)"
                                    }
                                ]
                            },
                            "data": [
                                {
                                    "0": "0"
                                }
                            ]
                        },
                        "text/html": [
                            "<table>",
                            "<tr><th>(No column name)</th></tr>",
                            "<tr><td>0</td></tr>",
                            "</table>"
                        ]
                    }
                }
            ],
            "execution_count": 5
        },
        {
            "cell_type": "markdown",
            "source": [
                "**3\\. Realizar el intercambio de información**"
            ],
            "metadata": {
                "language": "sql",
                "azdata_cell_guid": "3c60aacc-9002-4317-a651-00f598e7da98"
            },
            "attachments": {}
        },
        {
            "cell_type": "code",
            "source": [
                "SET STATISTICS TIME ON;\r\n",
                "GO\r\n",
                "ALTER TABLE SalesSource SWITCH TO SalesTarget;\r\n",
                "GO\r\n",
                "SET STATISTICS TIME OFF;"
            ],
            "metadata": {
                "language": "sql",
                "azdata_cell_guid": "ec809e94-2e8b-4132-8802-91aaf0a79fe0"
            },
            "outputs": [
                {
                    "output_type": "display_data",
                    "data": {
                        "text/html": "Commands completed successfully."
                    },
                    "metadata": {}
                },
                {
                    "output_type": "display_data",
                    "data": {
                        "text/html": "SQL Server parse and compile time: \n   CPU time = 15 ms, elapsed time = 15 ms."
                    },
                    "metadata": {}
                },
                {
                    "output_type": "display_data",
                    "data": {
                        "text/html": "\n SQL Server Execution Times:\n   CPU time = 0 ms,  elapsed time = 30 ms."
                    },
                    "metadata": {}
                },
                {
                    "output_type": "display_data",
                    "data": {
                        "text/html": "SQL Server parse and compile time: \n   CPU time = 0 ms, elapsed time = 0 ms."
                    },
                    "metadata": {}
                },
                {
                    "output_type": "display_data",
                    "data": {
                        "text/html": "Total execution time: 00:00:00.046"
                    },
                    "metadata": {}
                }
            ],
            "execution_count": 6
        },
        {
            "cell_type": "markdown",
            "source": [
                "**4\\. Verificar el número de renglones en cada tabla**"
            ],
            "metadata": {
                "language": "sql",
                "azdata_cell_guid": "a91df11c-e30f-4c32-8f98-8c8345fc6e86"
            },
            "attachments": {}
        },
        {
            "cell_type": "code",
            "source": [
                "SELECT COUNT(*) FROM SalesSource; \r\n",
                "SELECT COUNT(*) FROM SalesTarget; "
            ],
            "metadata": {
                "language": "sql",
                "azdata_cell_guid": "9b5d05fe-7611-44f1-ab6c-eb8694f8e73f"
            },
            "outputs": [
                {
                    "output_type": "display_data",
                    "data": {
                        "text/html": "(1 row affected)"
                    },
                    "metadata": {}
                },
                {
                    "output_type": "display_data",
                    "data": {
                        "text/html": "(1 row affected)"
                    },
                    "metadata": {}
                },
                {
                    "output_type": "display_data",
                    "data": {
                        "text/html": "Total execution time: 00:00:00.155"
                    },
                    "metadata": {}
                },
                {
                    "output_type": "execute_result",
                    "metadata": {},
                    "execution_count": 7,
                    "data": {
                        "application/vnd.dataresource+json": {
                            "schema": {
                                "fields": [
                                    {
                                        "name": "(No column name)"
                                    }
                                ]
                            },
                            "data": [
                                {
                                    "0": "0"
                                }
                            ]
                        },
                        "text/html": [
                            "<table>",
                            "<tr><th>(No column name)</th></tr>",
                            "<tr><td>0</td></tr>",
                            "</table>"
                        ]
                    }
                },
                {
                    "output_type": "execute_result",
                    "metadata": {},
                    "execution_count": 7,
                    "data": {
                        "application/vnd.dataresource+json": {
                            "schema": {
                                "fields": [
                                    {
                                        "name": "(No column name)"
                                    }
                                ]
                            },
                            "data": [
                                {
                                    "0": "1461000"
                                }
                            ]
                        },
                        "text/html": [
                            "<table>",
                            "<tr><th>(No column name)</th></tr>",
                            "<tr><td>1461000</td></tr>",
                            "</table>"
                        ]
                    }
                }
            ],
            "execution_count": 7
        },
        {
            "cell_type": "markdown",
            "source": [
                "## Carga de datos hacia una partición"
            ],
            "metadata": {
                "language": "sql",
                "azdata_cell_guid": "3177bd7f-5506-4522-b3c1-51331d8aebe5"
            },
            "attachments": {}
        },
        {
            "cell_type": "markdown",
            "source": [
                "**1\\. Setup**"
            ],
            "metadata": {
                "language": "sql",
                "azdata_cell_guid": "304daeaa-dd90-4712-b557-ba963ab9c873"
            },
            "attachments": {}
        },
        {
            "cell_type": "code",
            "source": [
                "-- Drop objects if they already exist\r\n",
                "IF EXISTS (SELECT * FROM sys.tables WHERE name = N'SalesSource')\r\n",
                "  DROP TABLE SalesSource;\r\n",
                "IF EXISTS (SELECT * FROM sys.tables WHERE name = N'SalesTarget')\r\n",
                "  DROP TABLE SalesTarget;\r\n",
                "IF EXISTS (SELECT * FROM sys.partition_schemes WHERE name = N'psSales')\r\n",
                "  DROP PARTITION SCHEME psSales;\r\n",
                "IF EXISTS (SELECT * FROM sys.partition_functions WHERE name = N'pfSales')\r\n",
                "  DROP PARTITION FUNCTION pfSales;\r\n",
                "\r\n",
                "-- Create the Partition Function\r\n",
                "CREATE PARTITION FUNCTION pfSales (DATE)\r\n",
                "AS RANGE RIGHT FOR VALUES\r\n",
                "('2013-01-01', '2014-01-01', '2015-01-01');\r\n",
                "-- Create the Partition Scheme\r\n",
                "CREATE PARTITION SCHEME psSales\r\n",
                "AS PARTITION pfSales\r\n",
                "ALL TO ([Primary]);\r\n",
                " \r\n",
                "-- Create the Non-Partitioned Source Table (Heap) on the [PRIMARY] filegroup\r\n",
                "CREATE TABLE SalesSource (\r\n",
                "  SalesDate DATE,\r\n",
                "  Quantity INT\r\n",
                ") ON [PRIMARY];\r\n",
                "-- Insert test data\r\n",
                "INSERT INTO SalesSource(SalesDate, Quantity)\r\n",
                "SELECT DATEADD(DAY,dates.n-1,'2012-01-01') AS SalesDate, qty.n AS Quantity\r\n",
                "FROM dbo.GetNums(DATEDIFF(DD,'2012-01-01','2013-01-01')) dates\r\n",
                "CROSS JOIN dbo.GetNums(1000) AS qty;\r\n",
                "-- Create the Partitioned Target Table (Heap) on the Partition Scheme\r\n",
                "CREATE TABLE SalesTarget (\r\n",
                "  SalesDate DATE,\r\n",
                "  Quantity INT\r\n",
                ") ON psSales(SalesDate);\r\n",
                "-- Insert test data\r\n",
                "INSERT INTO SalesTarget(SalesDate, Quantity)\r\n",
                "SELECT DATEADD(DAY,dates.n-1,'2013-01-01') AS SalesDate, qty.n AS Quantity\r\n",
                "FROM dbo.GetNums(DATEDIFF(DD,'2013-01-01','2016-01-01')) dates\r\n",
                "CROSS JOIN dbo.GetNums(1000) AS qty;"
            ],
            "metadata": {
                "language": "sql",
                "azdata_cell_guid": "f02d9f09-7ef0-4400-aaf1-232467d9539f"
            },
            "outputs": [
                {
                    "output_type": "display_data",
                    "data": {
                        "text/html": "Partition scheme 'psSales' has been created successfully. 'PRIMARY' is marked as the next used filegroup in partition scheme 'psSales'."
                    },
                    "metadata": {}
                },
                {
                    "output_type": "display_data",
                    "data": {
                        "text/html": "(366000 rows affected)"
                    },
                    "metadata": {}
                },
                {
                    "output_type": "display_data",
                    "data": {
                        "text/html": "(1095000 rows affected)"
                    },
                    "metadata": {}
                },
                {
                    "output_type": "display_data",
                    "data": {
                        "text/html": "Total execution time: 00:00:04.308"
                    },
                    "metadata": {}
                }
            ],
            "execution_count": 8
        },
        {
            "cell_type": "markdown",
            "source": [
                "**2\\. Verificar número de renglones en las tablas**"
            ],
            "metadata": {
                "azdata_cell_guid": "373e3687-8723-4192-8549-49db619c740b"
            },
            "attachments": {}
        },
        {
            "cell_type": "code",
            "source": [
                "SELECT COUNT(*) FROM SalesSource;\r\n",
                "\r\n",
                "SELECT\r\n",
                "  pstats.partition_number AS PartitionNumber\r\n",
                "  ,pstats.row_count AS PartitionRowCount\r\n",
                "FROM sys.dm_db_partition_stats AS pstats\r\n",
                "WHERE pstats.object_id = OBJECT_ID('SalesTarget')\r\n",
                "ORDER BY PartitionNumber;"
            ],
            "metadata": {
                "azdata_cell_guid": "fb4e72a2-ca32-4dda-b795-40cf2e39c053",
                "language": "sql"
            },
            "outputs": [
                {
                    "output_type": "display_data",
                    "data": {
                        "text/html": "(1 row affected)"
                    },
                    "metadata": {}
                },
                {
                    "output_type": "display_data",
                    "data": {
                        "text/html": "(4 rows affected)"
                    },
                    "metadata": {}
                },
                {
                    "output_type": "display_data",
                    "data": {
                        "text/html": "Total execution time: 00:00:00.098"
                    },
                    "metadata": {}
                },
                {
                    "output_type": "execute_result",
                    "metadata": {},
                    "execution_count": 9,
                    "data": {
                        "application/vnd.dataresource+json": {
                            "schema": {
                                "fields": [
                                    {
                                        "name": "(No column name)"
                                    }
                                ]
                            },
                            "data": [
                                {
                                    "0": "366000"
                                }
                            ]
                        },
                        "text/html": [
                            "<table>",
                            "<tr><th>(No column name)</th></tr>",
                            "<tr><td>366000</td></tr>",
                            "</table>"
                        ]
                    }
                },
                {
                    "output_type": "execute_result",
                    "metadata": {},
                    "execution_count": 9,
                    "data": {
                        "application/vnd.dataresource+json": {
                            "schema": {
                                "fields": [
                                    {
                                        "name": "PartitionNumber"
                                    },
                                    {
                                        "name": "PartitionRowCount"
                                    }
                                ]
                            },
                            "data": [
                                {
                                    "0": "1",
                                    "1": "0"
                                },
                                {
                                    "0": "2",
                                    "1": "365000"
                                },
                                {
                                    "0": "3",
                                    "1": "365000"
                                },
                                {
                                    "0": "4",
                                    "1": "365000"
                                }
                            ]
                        },
                        "text/html": [
                            "<table>",
                            "<tr><th>PartitionNumber</th><th>PartitionRowCount</th></tr>",
                            "<tr><td>1</td><td>0</td></tr>",
                            "<tr><td>2</td><td>365000</td></tr>",
                            "<tr><td>3</td><td>365000</td></tr>",
                            "<tr><td>4</td><td>365000</td></tr>",
                            "</table>"
                        ]
                    }
                }
            ],
            "execution_count": 9
        },
        {
            "cell_type": "markdown",
            "source": [
                "**3\\. Realizar el intercambio de datos**"
            ],
            "metadata": {
                "language": "sql",
                "azdata_cell_guid": "9ca2b7d4-91f3-4c18-a8cc-52f9af5cc982"
            },
            "attachments": {}
        },
        {
            "cell_type": "markdown",
            "source": [
                "Si tratamos de usar el comando alter switch veremos que el intercambio falla debido a que la tabla de origen y la partición de destino no tienen las mismas constraints"
            ],
            "metadata": {
                "language": "sql",
                "azdata_cell_guid": "05603818-ab21-4367-800f-9e292c3d27f7"
            },
            "attachments": {}
        },
        {
            "cell_type": "code",
            "source": [
                "SET STATISTICS TIME ON;\r\n",
                "GO\r\n",
                "ALTER TABLE SalesSource SWITCH TO SalesTarget PARTITION 1;\r\n",
                "GO\r\n",
                "SET STATISTICS TIME OFF;"
            ],
            "metadata": {
                "language": "sql",
                "azdata_cell_guid": "25a187a2-7be0-4a0c-bef0-26d9b089a497"
            },
            "outputs": [
                {
                    "output_type": "display_data",
                    "data": {
                        "text/html": "Commands completed successfully."
                    },
                    "metadata": {}
                },
                {
                    "output_type": "display_data",
                    "data": {
                        "text/html": "SQL Server parse and compile time: \n   CPU time = 0 ms, elapsed time = 13 ms."
                    },
                    "metadata": {}
                },
                {
                    "output_type": "error",
                    "evalue": "Msg 4982, Level 16, State 1, Line 3\r\nALTER TABLE SWITCH statement failed. Check constraints of source table 'PartitionTestDB.dbo.SalesSource' allow values that are not allowed by range defined by partition 1 on target table 'PartitionTestDB.dbo.SalesTarget'.",
                    "ename": "",
                    "traceback": []
                },
                {
                    "output_type": "display_data",
                    "data": {
                        "text/html": "SQL Server parse and compile time: \n   CPU time = 0 ms, elapsed time = 0 ms."
                    },
                    "metadata": {}
                },
                {
                    "output_type": "display_data",
                    "data": {
                        "text/html": "Total execution time: 00:00:00.019"
                    },
                    "metadata": {}
                }
            ],
            "execution_count": 10
        },
        {
            "cell_type": "markdown",
            "source": [
                "Vamos a crear las constraints y posteriormente realizaremos el intercambio de datos"
            ],
            "metadata": {
                "language": "sql",
                "azdata_cell_guid": "853c76a8-2e34-4bf3-acfd-ad13dd82aa6f"
            },
            "attachments": {}
        },
        {
            "cell_type": "code",
            "source": [
                "ALTER TABLE SalesSource\r\n",
                "WITH CHECK ADD CONSTRAINT ckMinSalesDate\r\n",
                "CHECK (SalesDate IS NOT NULL AND SalesDate >= '2012-01-01');\r\n",
                " \r\n",
                "ALTER TABLE SalesSource\r\n",
                "WITH CHECK ADD CONSTRAINT ckMaxSalesDate\r\n",
                "CHECK (SalesDate IS NOT NULL AND SalesDate < '2013-01-01');"
            ],
            "metadata": {
                "language": "sql",
                "azdata_cell_guid": "b2bd3a5b-5e6c-4648-9f30-9548221aa0fb"
            },
            "outputs": [
                {
                    "output_type": "display_data",
                    "data": {
                        "text/html": "Commands completed successfully."
                    },
                    "metadata": {}
                },
                {
                    "output_type": "display_data",
                    "data": {
                        "text/html": "Total execution time: 00:00:00.159"
                    },
                    "metadata": {}
                }
            ],
            "execution_count": 11
        },
        {
            "cell_type": "code",
            "source": [
                "SET STATISTICS TIME ON;\r\n",
                "GO\r\n",
                "ALTER TABLE SalesSource SWITCH TO SalesTarget PARTITION 1;\r\n",
                "GO\r\n",
                "SET STATISTICS TIME OFF;"
            ],
            "metadata": {
                "language": "sql",
                "azdata_cell_guid": "ad730288-aed8-4570-95a7-5df8b613283c"
            },
            "outputs": [
                {
                    "output_type": "display_data",
                    "data": {
                        "text/html": "Commands completed successfully."
                    },
                    "metadata": {}
                },
                {
                    "output_type": "display_data",
                    "data": {
                        "text/html": "SQL Server parse and compile time: \n   CPU time = 0 ms, elapsed time = 0 ms."
                    },
                    "metadata": {}
                },
                {
                    "output_type": "display_data",
                    "data": {
                        "text/html": "\n SQL Server Execution Times:\n   CPU time = 0 ms,  elapsed time = 4 ms."
                    },
                    "metadata": {}
                },
                {
                    "output_type": "display_data",
                    "data": {
                        "text/html": "SQL Server parse and compile time: \n   CPU time = 0 ms, elapsed time = 0 ms."
                    },
                    "metadata": {}
                },
                {
                    "output_type": "display_data",
                    "data": {
                        "text/html": "Total execution time: 00:00:00.004"
                    },
                    "metadata": {}
                }
            ],
            "execution_count": 11
        },
        {
            "cell_type": "markdown",
            "source": [
                "**4\\. Verificar el número de renglones en cada tabla**"
            ],
            "metadata": {
                "language": "sql",
                "azdata_cell_guid": "d31cc353-c65f-4d67-b05a-a95c351f75ff"
            },
            "attachments": {}
        },
        {
            "cell_type": "code",
            "source": [
                "SELECT COUNT(*) FROM SalesSource;\r\n",
                "\r\n",
                "SELECT\r\n",
                "  pstats.partition_number AS PartitionNumber\r\n",
                "  ,pstats.row_count AS PartitionRowCount\r\n",
                "FROM sys.dm_db_partition_stats AS pstats\r\n",
                "WHERE pstats.object_id = OBJECT_ID('SalesTarget')\r\n",
                "ORDER BY PartitionNumber;"
            ],
            "metadata": {
                "language": "sql",
                "azdata_cell_guid": "aa07a023-2c26-4e98-8ac6-5dc28f503178"
            },
            "outputs": [
                {
                    "output_type": "display_data",
                    "data": {
                        "text/html": "(1 row affected)"
                    },
                    "metadata": {}
                },
                {
                    "output_type": "display_data",
                    "data": {
                        "text/html": "(4 rows affected)"
                    },
                    "metadata": {}
                },
                {
                    "output_type": "display_data",
                    "data": {
                        "text/html": "Total execution time: 00:00:00.069"
                    },
                    "metadata": {}
                },
                {
                    "output_type": "execute_result",
                    "metadata": {},
                    "execution_count": 12,
                    "data": {
                        "application/vnd.dataresource+json": {
                            "schema": {
                                "fields": [
                                    {
                                        "name": "(No column name)"
                                    }
                                ]
                            },
                            "data": [
                                {
                                    "0": "366000"
                                }
                            ]
                        },
                        "text/html": [
                            "<table>",
                            "<tr><th>(No column name)</th></tr>",
                            "<tr><td>366000</td></tr>",
                            "</table>"
                        ]
                    }
                },
                {
                    "output_type": "execute_result",
                    "metadata": {},
                    "execution_count": 12,
                    "data": {
                        "application/vnd.dataresource+json": {
                            "schema": {
                                "fields": [
                                    {
                                        "name": "PartitionNumber"
                                    },
                                    {
                                        "name": "PartitionRowCount"
                                    }
                                ]
                            },
                            "data": [
                                {
                                    "0": "1",
                                    "1": "0"
                                },
                                {
                                    "0": "2",
                                    "1": "365000"
                                },
                                {
                                    "0": "3",
                                    "1": "365000"
                                },
                                {
                                    "0": "4",
                                    "1": "365000"
                                }
                            ]
                        },
                        "text/html": [
                            "<table>",
                            "<tr><th>PartitionNumber</th><th>PartitionRowCount</th></tr>",
                            "<tr><td>1</td><td>0</td></tr>",
                            "<tr><td>2</td><td>365000</td></tr>",
                            "<tr><td>3</td><td>365000</td></tr>",
                            "<tr><td>4</td><td>365000</td></tr>",
                            "</table>"
                        ]
                    }
                }
            ],
            "execution_count": 12
        },
        {
            "cell_type": "markdown",
            "source": [
                "## Mandar datos de partición hacia Archiving"
            ],
            "metadata": {
                "azdata_cell_guid": "ed0655b5-5e52-46a3-b425-1b828cfe92bd"
            },
            "attachments": {}
        },
        {
            "cell_type": "markdown",
            "source": [
                "**1\\. Setup**"
            ],
            "metadata": {
                "azdata_cell_guid": "8886cfcf-d177-4a5d-a565-64203f90bb68"
            },
            "attachments": {}
        },
        {
            "cell_type": "code",
            "source": [
                "-- Drop objects if they already exist\r\n",
                "IF EXISTS (SELECT * FROM sys.tables WHERE name = N'SalesSource')\r\n",
                "  DROP TABLE SalesSource;\r\n",
                "IF EXISTS (SELECT * FROM sys.tables WHERE name = N'SalesTarget')\r\n",
                "  DROP TABLE SalesTarget;\r\n",
                "IF EXISTS (SELECT * FROM sys.partition_schemes WHERE name = N'psSales')\r\n",
                "  DROP PARTITION SCHEME psSales;\r\n",
                "IF EXISTS (SELECT * FROM sys.partition_functions WHERE name = N'pfSales')\r\n",
                "  DROP PARTITION FUNCTION pfSales;\r\n",
                "-- Create the Partition Function\r\n",
                "CREATE PARTITION FUNCTION pfSales (DATE)\r\n",
                "AS RANGE RIGHT FOR VALUES\r\n",
                "('2013-01-01', '2014-01-01', '2015-01-01');\r\n",
                "-- Create the Partition Scheme\r\n",
                "CREATE PARTITION SCHEME psSales\r\n",
                "AS PARTITION pfSales\r\n",
                "ALL TO ([Primary]);\r\n",
                "-- Create the Partitioned Source Table (Heap) on the Partition Scheme\r\n",
                "CREATE TABLE SalesSource (\r\n",
                "  SalesDate DATE,\r\n",
                "  Quantity INT\r\n",
                ") ON psSales(SalesDate);\r\n",
                "-- Insert test data\r\n",
                "INSERT INTO SalesSource(SalesDate, Quantity)\r\n",
                "SELECT DATEADD(DAY,dates.n-1,'2012-01-01') AS SalesDate, qty.n AS Quantity\r\n",
                "FROM GetNums(DATEDIFF(DD,'2012-01-01','2016-01-01')) dates\r\n",
                "CROSS JOIN GetNums(1000) AS qty;\r\n",
                " \r\n",
                "-- Create the Non-Partitioned Target Table (Heap) on the [PRIMARY] filegroup\r\n",
                "CREATE TABLE SalesTarget (\r\n",
                "  SalesDate DATE,\r\n",
                "  Quantity INT\r\n",
                ") ON [PRIMARY];"
            ],
            "metadata": {
                "azdata_cell_guid": "dc64b44d-faef-4e1b-88ea-22ae96142377",
                "language": "sql",
                "tags": []
            },
            "outputs": [
                {
                    "output_type": "display_data",
                    "data": {
                        "text/html": "Partition scheme 'psSales' has been created successfully. 'PRIMARY' is marked as the next used filegroup in partition scheme 'psSales'."
                    },
                    "metadata": {}
                },
                {
                    "output_type": "display_data",
                    "data": {
                        "text/html": "(1461000 rows affected)"
                    },
                    "metadata": {}
                },
                {
                    "output_type": "display_data",
                    "data": {
                        "text/html": "Total execution time: 00:00:03.792"
                    },
                    "metadata": {}
                }
            ],
            "execution_count": 13
        },
        {
            "cell_type": "markdown",
            "source": [
                "**2\\. Verificar número de renglones en las tablas**"
            ],
            "metadata": {
                "language": "sql",
                "azdata_cell_guid": "0e73a5db-ba65-4789-a12b-e18c7bbbab50"
            },
            "attachments": {}
        },
        {
            "cell_type": "code",
            "source": [
                "SELECT\r\n",
                "  pstats.partition_number AS PartitionNumber\r\n",
                "  ,pstats.row_count AS PartitionRowCount\r\n",
                "FROM sys.dm_db_partition_stats AS pstats\r\n",
                "WHERE pstats.object_id = OBJECT_ID('SalesSource')\r\n",
                "ORDER BY PartitionNumber;\r\n",
                "\r\n",
                "SELECT COUNT(*) FROM SalesTarget;"
            ],
            "metadata": {
                "language": "sql",
                "azdata_cell_guid": "25dbb889-dcd6-48df-a31a-de45138c312f"
            },
            "outputs": [
                {
                    "output_type": "display_data",
                    "data": {
                        "text/html": "(4 rows affected)"
                    },
                    "metadata": {}
                },
                {
                    "output_type": "display_data",
                    "data": {
                        "text/html": "(1 row affected)"
                    },
                    "metadata": {}
                },
                {
                    "output_type": "display_data",
                    "data": {
                        "text/html": "Total execution time: 00:00:00.010"
                    },
                    "metadata": {}
                },
                {
                    "output_type": "execute_result",
                    "execution_count": 16,
                    "data": {
                        "application/vnd.dataresource+json": {
                            "schema": {
                                "fields": [
                                    {
                                        "name": "PartitionNumber"
                                    },
                                    {
                                        "name": "PartitionRowCount"
                                    }
                                ]
                            },
                            "data": [
                                {
                                    "0": "1",
                                    "1": "366000"
                                },
                                {
                                    "0": "2",
                                    "1": "365000"
                                },
                                {
                                    "0": "3",
                                    "1": "365000"
                                },
                                {
                                    "0": "4",
                                    "1": "365000"
                                }
                            ]
                        },
                        "text/html": "<table><tr><th>PartitionNumber</th><th>PartitionRowCount</th></tr><tr><td>1</td><td>366000</td></tr><tr><td>2</td><td>365000</td></tr><tr><td>3</td><td>365000</td></tr><tr><td>4</td><td>365000</td></tr></table>"
                    },
                    "metadata": {}
                },
                {
                    "output_type": "execute_result",
                    "execution_count": 16,
                    "data": {
                        "application/vnd.dataresource+json": {
                            "schema": {
                                "fields": [
                                    {
                                        "name": "(No column name)"
                                    }
                                ]
                            },
                            "data": [
                                {
                                    "0": "0"
                                }
                            ]
                        },
                        "text/html": "<table><tr><th>(No column name)</th></tr><tr><td>0</td></tr></table>"
                    },
                    "metadata": {}
                }
            ],
            "execution_count": 16
        },
        {
            "cell_type": "markdown",
            "source": [
                "**3\\. Realizar el intercambio de datos**"
            ],
            "metadata": {
                "azdata_cell_guid": "1fdc48c8-7ef4-46b5-971a-75697bea9239"
            },
            "attachments": {}
        },
        {
            "cell_type": "code",
            "source": [
                "SET STATISTICS TIME ON;\r\n",
                "GO\r\n",
                "ALTER TABLE SalesSource SWITCH PARTITION 1 TO SalesTarget;\r\n",
                "GO\r\n",
                "SET STATISTICS TIME OFF;"
            ],
            "metadata": {
                "azdata_cell_guid": "a7a65bb2-5218-4c8f-abb2-384e8442130c",
                "language": "sql"
            },
            "outputs": [
                {
                    "output_type": "display_data",
                    "data": {
                        "text/html": "Commands completed successfully."
                    },
                    "metadata": {}
                },
                {
                    "output_type": "display_data",
                    "data": {
                        "text/html": "SQL Server parse and compile time: \n   CPU time = 0 ms, elapsed time = 0 ms."
                    },
                    "metadata": {}
                },
                {
                    "output_type": "display_data",
                    "data": {
                        "text/html": "\n SQL Server Execution Times:\n   CPU time = 0 ms,  elapsed time = 1 ms."
                    },
                    "metadata": {}
                },
                {
                    "output_type": "display_data",
                    "data": {
                        "text/html": "SQL Server parse and compile time: \n   CPU time = 0 ms, elapsed time = 0 ms."
                    },
                    "metadata": {}
                },
                {
                    "output_type": "display_data",
                    "data": {
                        "text/html": "Total execution time: 00:00:00.001"
                    },
                    "metadata": {}
                }
            ],
            "execution_count": 14
        },
        {
            "cell_type": "markdown",
            "source": [
                "**4\\. Verificar el número de renglones**"
            ],
            "metadata": {
                "language": "sql",
                "azdata_cell_guid": "f39f9a20-96e1-4255-859f-8fad8fb69a8f"
            },
            "attachments": {}
        },
        {
            "cell_type": "code",
            "source": [
                "SELECT\r\n",
                "  pstats.partition_number AS PartitionNumber\r\n",
                "  ,pstats.row_count AS PartitionRowCount\r\n",
                "FROM sys.dm_db_partition_stats AS pstats\r\n",
                "WHERE pstats.object_id = OBJECT_ID('SalesSource')\r\n",
                "ORDER BY PartitionNumber;\r\n",
                "\r\n",
                "SELECT COUNT(*) FROM SalesTarget;"
            ],
            "metadata": {
                "language": "sql",
                "azdata_cell_guid": "21826f37-f22b-4147-be14-6e5624f6af5a"
            },
            "outputs": [
                {
                    "output_type": "display_data",
                    "data": {
                        "text/html": "(1 row affected)"
                    },
                    "metadata": {}
                },
                {
                    "output_type": "display_data",
                    "data": {
                        "text/html": "(1 row affected)"
                    },
                    "metadata": {}
                },
                {
                    "output_type": "display_data",
                    "data": {
                        "text/html": "Total execution time: 00:00:00.167"
                    },
                    "metadata": {}
                },
                {
                    "output_type": "execute_result",
                    "metadata": {},
                    "execution_count": 13,
                    "data": {
                        "application/vnd.dataresource+json": {
                            "schema": {
                                "fields": [
                                    {
                                        "name": "PartitionNumber"
                                    },
                                    {
                                        "name": "PartitionRowCount"
                                    }
                                ]
                            },
                            "data": [
                                {
                                    "0": "1",
                                    "1": "366000"
                                }
                            ]
                        },
                        "text/html": [
                            "<table>",
                            "<tr><th>PartitionNumber</th><th>PartitionRowCount</th></tr>",
                            "<tr><td>1</td><td>366000</td></tr>",
                            "</table>"
                        ]
                    }
                },
                {
                    "output_type": "execute_result",
                    "metadata": {},
                    "execution_count": 13,
                    "data": {
                        "application/vnd.dataresource+json": {
                            "schema": {
                                "fields": [
                                    {
                                        "name": "(No column name)"
                                    }
                                ]
                            },
                            "data": [
                                {
                                    "0": "1095000"
                                }
                            ]
                        },
                        "text/html": [
                            "<table>",
                            "<tr><th>(No column name)</th></tr>",
                            "<tr><td>1095000</td></tr>",
                            "</table>"
                        ]
                    }
                }
            ],
            "execution_count": 13
        }
    ]
}