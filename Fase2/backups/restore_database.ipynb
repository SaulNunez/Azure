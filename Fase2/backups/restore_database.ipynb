{
    "metadata": {
        "kernelspec": {
            "name": "SQL",
            "display_name": "SQL",
            "language": "sql"
        },
        "language_info": {
            "name": "sql",
            "version": ""
        }
    },
    "nbformat_minor": 2,
    "nbformat": 4,
    "cells": [
        {
            "cell_type": "markdown",
            "source": [
                "# Restore database"
            ],
            "metadata": {
                "azdata_cell_guid": "2f235f7e-dcad-48c2-a1de-cbeea78f7b24"
            },
            "attachments": {}
        },
        {
            "cell_type": "markdown",
            "source": [
                "### Restore full backup"
            ],
            "metadata": {
                "azdata_cell_guid": "3f367b32-69af-4b22-8b55-d616957f5f88"
            },
            "attachments": {}
        },
        {
            "cell_type": "code",
            "source": [
                "USE master\n",
                "GO\n",
                "DROP DATABASE TestBackupDB;"
            ],
            "metadata": {
                "azdata_cell_guid": "68bc1063-bec7-4a75-a298-486af668281b",
                "language": "sql",
                "tags": []
            },
            "outputs": [
                {
                    "output_type": "display_data",
                    "data": {
                        "text/html": "Commands completed successfully."
                    },
                    "metadata": {}
                },
                {
                    "output_type": "error",
                    "evalue": "Msg 3701, Level 11, State 1, Line 3\nCannot drop the database 'TestBackupDB', because it does not exist or you do not have permission.",
                    "ename": "",
                    "traceback": []
                },
                {
                    "output_type": "display_data",
                    "data": {
                        "text/html": "Total execution time: 00:00:00.002"
                    },
                    "metadata": {}
                }
            ],
            "execution_count": 11
        },
        {
            "cell_type": "code",
            "source": [
                "RESTORE DATABASE TestBackupDB  \n",
                "   FROM DISK = '/var/opt/mssql/backups/TestBackupDB.bak'\n",
                "   WITH NORECOVERY;  "
            ],
            "metadata": {
                "azdata_cell_guid": "3f3ad25c-3e14-4161-9d19-b46a640e3417",
                "language": "sql",
                "tags": []
            },
            "outputs": [
                {
                    "output_type": "display_data",
                    "data": {
                        "text/html": "Processed 376 pages for database 'TestBackupDB', file 'TestBackupDB' on file 1."
                    },
                    "metadata": {}
                },
                {
                    "output_type": "display_data",
                    "data": {
                        "text/html": "Processed 2 pages for database 'TestBackupDB', file 'TestBackupDB_log' on file 1."
                    },
                    "metadata": {}
                },
                {
                    "output_type": "display_data",
                    "data": {
                        "text/html": "RESTORE DATABASE successfully processed 378 pages in 0.012 seconds (245.768 MB/sec)."
                    },
                    "metadata": {}
                },
                {
                    "output_type": "display_data",
                    "data": {
                        "text/html": "Total execution time: 00:00:00.177"
                    },
                    "metadata": {}
                }
            ],
            "execution_count": 12
        },
        {
            "cell_type": "markdown",
            "source": [
                "### Restore differential backup"
            ],
            "metadata": {
                "language": "sql",
                "azdata_cell_guid": "4f520b4a-1618-4e79-9af8-842e42a43695"
            },
            "attachments": {}
        },
        {
            "cell_type": "code",
            "source": [
                "RESTORE DATABASE TestBackupDB  \n",
                "   FROM DISK = '/var/opt/mssql/backups/TestBackupDB_diff1.bak'\n",
                "   WITH NORECOVERY;  "
            ],
            "metadata": {
                "language": "sql",
                "azdata_cell_guid": "bdf9a25e-8469-4606-b7a4-1798257d4f52"
            },
            "outputs": [
                {
                    "output_type": "display_data",
                    "data": {
                        "text/html": "Processed 376 pages for database 'TestBackupDB', file 'TestBackupDB' on file 1."
                    },
                    "metadata": {}
                },
                {
                    "output_type": "display_data",
                    "data": {
                        "text/html": "Processed 2 pages for database 'TestBackupDB', file 'TestBackupDB_log' on file 1."
                    },
                    "metadata": {}
                },
                {
                    "output_type": "display_data",
                    "data": {
                        "text/html": "RESTORE DATABASE successfully processed 378 pages in 0.018 seconds (163.845 MB/sec)."
                    },
                    "metadata": {}
                },
                {
                    "output_type": "display_data",
                    "data": {
                        "text/html": "Total execution time: 00:00:00.231"
                    },
                    "metadata": {}
                }
            ],
            "execution_count": 13
        },
        {
            "cell_type": "markdown",
            "source": [
                "### Restore log backup"
            ],
            "metadata": {
                "language": "sql",
                "azdata_cell_guid": "f7b77988-31d5-438a-9da7-a4415e0c6a9b"
            },
            "attachments": {}
        },
        {
            "cell_type": "code",
            "source": [
                "RESTORE LOG TestBackupDB  \n",
                "   FROM DISK = '/var/opt/mssql/backups/TestBackupDB_log1.bak'\n",
                "   WITH RECOVERY;  "
            ],
            "metadata": {
                "language": "sql",
                "azdata_cell_guid": "06779aa8-1295-45fa-818f-fbef3d85e5ce"
            },
            "outputs": [
                {
                    "output_type": "display_data",
                    "data": {
                        "text/html": "Processed 0 pages for database 'TestBackupDB', file 'TestBackupDB' on file 1."
                    },
                    "metadata": {}
                },
                {
                    "output_type": "display_data",
                    "data": {
                        "text/html": "Processed 13 pages for database 'TestBackupDB', file 'TestBackupDB_log' on file 1."
                    },
                    "metadata": {}
                },
                {
                    "output_type": "display_data",
                    "data": {
                        "text/html": "RESTORE LOG successfully processed 13 pages in 0.005 seconds (19.531 MB/sec)."
                    },
                    "metadata": {}
                },
                {
                    "output_type": "display_data",
                    "data": {
                        "text/html": "Total execution time: 00:00:00.277"
                    },
                    "metadata": {}
                }
            ],
            "execution_count": 14
        },
        {
            "cell_type": "markdown",
            "source": [
                "### Test Database"
            ],
            "metadata": {
                "language": "sql",
                "azdata_cell_guid": "fb5dbe0e-2a21-4e96-a3fb-bcd5f4dad43f"
            },
            "attachments": {}
        },
        {
            "cell_type": "code",
            "source": [
                "USE TestBackupDB;\n",
                "GO\n",
                "SELECT * FROM Books;"
            ],
            "metadata": {
                "language": "sql",
                "azdata_cell_guid": "016a2c9b-9863-434f-af41-008e1593d25d"
            },
            "outputs": [
                {
                    "output_type": "display_data",
                    "data": {
                        "text/html": "Commands completed successfully."
                    },
                    "metadata": {}
                },
                {
                    "output_type": "display_data",
                    "data": {
                        "text/html": "(3 rows affected)"
                    },
                    "metadata": {}
                },
                {
                    "output_type": "display_data",
                    "data": {
                        "text/html": "Total execution time: 00:00:00.093"
                    },
                    "metadata": {}
                },
                {
                    "output_type": "execute_result",
                    "metadata": {},
                    "execution_count": 15,
                    "data": {
                        "application/vnd.dataresource+json": {
                            "schema": {
                                "fields": [
                                    {
                                        "name": "id"
                                    },
                                    {
                                        "name": "name"
                                    }
                                ]
                            },
                            "data": [
                                {
                                    "0": "1",
                                    "1": "Introducción a la IA"
                                },
                                {
                                    "0": "2",
                                    "1": "Introducción a base de datos"
                                },
                                {
                                    "0": "3",
                                    "1": "Introducción a deep learning"
                                }
                            ]
                        },
                        "text/html": [
                            "<table>",
                            "<tr><th>id</th><th>name</th></tr>",
                            "<tr><td>1</td><td>Introducción a la IA</td></tr>",
                            "<tr><td>2</td><td>Introducción a base de datos</td></tr>",
                            "<tr><td>3</td><td>Introducción a deep learning</td></tr>",
                            "</table>"
                        ]
                    }
                }
            ],
            "execution_count": 15
        }
    ]
}