{
    "metadata": {
        "kernelspec": {
            "name": "SQL",
            "display_name": "SQL",
            "language": "sql"
        },
        "language_info": {
            "name": "sql",
            "version": ""
        }
    },
    "nbformat_minor": 2,
    "nbformat": 4,
    "cells": [
        {
            "cell_type": "markdown",
            "source": [
                "# Backup database"
            ],
            "metadata": {
                "azdata_cell_guid": "185e79a2-d9b2-4998-976c-b9d614c34d74"
            },
            "attachments": {}
        },
        {
            "cell_type": "markdown",
            "source": [
                "### Create database"
            ],
            "metadata": {
                "azdata_cell_guid": "c4d7456a-67d0-4046-b045-6c083cce6d29"
            },
            "attachments": {}
        },
        {
            "cell_type": "code",
            "source": [
                "CREATE DATABASE TestBackupDB;\n",
                "GO\n",
                "USE TestBackupDB;\n",
                "\n",
                "CREATE TABLE Books(\n",
                "    id INT PRIMARY KEY IDENTITY,\n",
                "    name VARCHAR(250)\n",
                ")\n",
                "\n",
                "INSERT INTO Books(name) VALUES ('Introducción a la IA');"
            ],
            "metadata": {
                "azdata_cell_guid": "13b2d2cf-fe61-4611-b5e0-f28040fdf835",
                "language": "sql",
                "tags": []
            },
            "outputs": [
                {
                    "output_type": "display_data",
                    "data": {
                        "text/html": "Commands completed successfully."
                    },
                    "metadata": {}
                },
                {
                    "output_type": "display_data",
                    "data": {
                        "text/html": "(1 row affected)"
                    },
                    "metadata": {}
                },
                {
                    "output_type": "display_data",
                    "data": {
                        "text/html": "Total execution time: 00:00:00.374"
                    },
                    "metadata": {}
                }
            ],
            "execution_count": 1
        },
        {
            "cell_type": "markdown",
            "source": [
                "### Do a full backup"
            ],
            "metadata": {
                "language": "sql",
                "azdata_cell_guid": "7cf05031-d069-40b6-8c87-fde6b9c0e601"
            },
            "attachments": {}
        },
        {
            "cell_type": "code",
            "source": [
                "BACKUP DATABASE TestBackupDB\n",
                "TO DISK = 'C://Backups/TestBackupDB.bak'\n",
                "   WITH FORMAT,\n",
                "      MEDIANAME = 'SQLServerBackups',\n",
                "      NAME = 'Full Backup of TestBackupDB';"
            ],
            "metadata": {
                "language": "sql",
                "azdata_cell_guid": "b96e49d5-6847-4561-a928-669bd92c5303"
            },
            "outputs": [
                {
                    "output_type": "display_data",
                    "data": {
                        "text/html": "Processed 368 pages for database 'TestBackupDB', file 'TestBackupDB' on file 1."
                    },
                    "metadata": {}
                },
                {
                    "output_type": "display_data",
                    "data": {
                        "text/html": "Processed 2 pages for database 'TestBackupDB', file 'TestBackupDB_log' on file 1."
                    },
                    "metadata": {}
                },
                {
                    "output_type": "display_data",
                    "data": {
                        "text/html": "BACKUP DATABASE successfully processed 370 pages in 0.056 seconds (51.548 MB/sec)."
                    },
                    "metadata": {}
                },
                {
                    "output_type": "display_data",
                    "data": {
                        "text/html": "Total execution time: 00:00:00.101"
                    },
                    "metadata": {}
                }
            ],
            "execution_count": 3
        },
        {
            "cell_type": "markdown",
            "source": [
                "### Add data and do differential backup"
            ],
            "metadata": {
                "language": "sql",
                "azdata_cell_guid": "31b23b73-94df-4857-bd4b-310fa48d8bd3"
            },
            "attachments": {}
        },
        {
            "cell_type": "code",
            "source": [
                "INSERT INTO Books(name) VALUES ('Introducción a base de datos');"
            ],
            "metadata": {
                "language": "sql",
                "azdata_cell_guid": "7313a21d-ae19-446b-916a-b7b3e8c0bfec"
            },
            "outputs": [
                {
                    "output_type": "display_data",
                    "data": {
                        "text/html": "(1 row affected)"
                    },
                    "metadata": {}
                },
                {
                    "output_type": "display_data",
                    "data": {
                        "text/html": "Total execution time: 00:00:00"
                    },
                    "metadata": {}
                }
            ],
            "execution_count": 4
        },
        {
            "cell_type": "code",
            "source": [
                "BACKUP DATABASE TestBackupDB  \n",
                "   TO DISK = 'C://Backups/TestBackupDB_diff1.bak'\n",
                "   WITH FORMAT,\n",
                "      MEDIANAME = 'SQLServerBackups',\n",
                "      NAME = 'Differential Backup 1 of TestBackupDB';"
            ],
            "metadata": {
                "language": "sql",
                "azdata_cell_guid": "fa1e5e0d-ef93-472a-80d6-4f7103bfcaf0"
            },
            "outputs": [
                {
                    "output_type": "display_data",
                    "data": {
                        "text/html": "Processed 368 pages for database 'TestBackupDB', file 'TestBackupDB' on file 1."
                    },
                    "metadata": {}
                },
                {
                    "output_type": "display_data",
                    "data": {
                        "text/html": "Processed 2 pages for database 'TestBackupDB', file 'TestBackupDB_log' on file 1."
                    },
                    "metadata": {}
                },
                {
                    "output_type": "display_data",
                    "data": {
                        "text/html": "BACKUP DATABASE successfully processed 370 pages in 0.036 seconds (80.186 MB/sec)."
                    },
                    "metadata": {}
                },
                {
                    "output_type": "display_data",
                    "data": {
                        "text/html": "Total execution time: 00:00:00.072"
                    },
                    "metadata": {}
                }
            ],
            "execution_count": 5
        },
        {
            "cell_type": "markdown",
            "source": [
                "### Add data and do Log Backup"
            ],
            "metadata": {
                "language": "sql",
                "azdata_cell_guid": "9a9aa39f-3827-4c0b-8912-d9eae9b27066"
            },
            "attachments": {}
        },
        {
            "cell_type": "code",
            "source": [
                "INSERT INTO Books(name) VALUES ('Introducción a deep learning');"
            ],
            "metadata": {
                "language": "sql",
                "azdata_cell_guid": "403f11a3-ddf0-40b9-9c1d-0b755b866407"
            },
            "outputs": [
                {
                    "output_type": "display_data",
                    "data": {
                        "text/html": "(1 row affected)"
                    },
                    "metadata": {}
                },
                {
                    "output_type": "display_data",
                    "data": {
                        "text/html": "Total execution time: 00:00:00.007"
                    },
                    "metadata": {}
                }
            ],
            "execution_count": 6
        },
        {
            "cell_type": "code",
            "source": [
                "BACKUP LOG TestBackupDB  \n",
                "   TO DISK = 'C://Backups/TestBackupDB_log1.bak'\n",
                "   WITH FORMAT,\n",
                "      MEDIANAME = 'SQLServerBackups',\n",
                "      NAME = 'Log Backup 1 of TestBackupDB';"
            ],
            "metadata": {
                "language": "sql",
                "azdata_cell_guid": "8523b700-5554-4abd-9a5b-b566de71f44f"
            },
            "outputs": [
                {
                    "output_type": "display_data",
                    "data": {
                        "text/html": "Processed 13 pages for database 'TestBackupDB', file 'TestBackupDB_log' on file 1."
                    },
                    "metadata": {}
                },
                {
                    "output_type": "display_data",
                    "data": {
                        "text/html": "BACKUP LOG successfully processed 13 pages in 0.006 seconds (16.276 MB/sec)."
                    },
                    "metadata": {}
                },
                {
                    "output_type": "display_data",
                    "data": {
                        "text/html": "Total execution time: 00:00:00.031"
                    },
                    "metadata": {}
                }
            ],
            "execution_count": 8
        }
    ]
}