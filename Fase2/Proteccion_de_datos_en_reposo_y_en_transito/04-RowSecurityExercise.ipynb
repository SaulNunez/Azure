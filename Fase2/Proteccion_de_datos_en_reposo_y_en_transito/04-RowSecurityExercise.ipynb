{
    "metadata": {
        "kernelspec": {
            "name": "SQL",
            "display_name": "SQL",
            "language": "sql"
        },
        "language_info": {
            "name": "sql",
            "version": ""
        }
    },
    "nbformat_minor": 2,
    "nbformat": 4,
    "cells": [
        {
            "cell_type": "markdown",
            "source": [
                "# Seguridad a nivel de renglón\n",
                "\n",
                "Paso 1. Crear base de datos de prueba"
            ],
            "metadata": {
                "azdata_cell_guid": "5eae22f8-d34d-4e23-9c77-7c5bb2cc470a"
            },
            "attachments": {}
        },
        {
            "cell_type": "code",
            "source": [
                "CREATE DATABASE [TestDB_RLS] CONTAINMENT = PARTIAL\r\n",
                "GO\r\n",
                "USE TestDB_RLS\r\n",
                "GO\r\n",
                "CREATE SCHEMA demo\r\n",
                "GO\r\n",
                "CREATE TABLE demo.customers (\r\n",
                "  id int not null,\r\n",
                "  name nvarchar(100) not null,\r\n",
                "  country char(2) not null,\r\n",
                "  primary key (id)\r\n",
                ")\r\n",
                "INSERT INTO demo.customers VALUES\r\n",
                "(1, 'Andrea', 'AR'),\r\n",
                "(2, 'Bruno', 'BE'),\r\n",
                "(3, 'Charles', 'CA'),\r\n",
                "(4, 'Daniella', 'DK'),\r\n",
                "(5, 'Eric', 'ES')"
            ],
            "metadata": {
                "azdata_cell_guid": "651671bc-d4f5-442c-a503-789052304916",
                "language": "sql"
            },
            "outputs": [
                {
                    "output_type": "display_data",
                    "data": {
                        "text/html": "Commands completed successfully."
                    },
                    "metadata": {}
                },
                {
                    "output_type": "display_data",
                    "data": {
                        "text/html": "Commands completed successfully."
                    },
                    "metadata": {}
                },
                {
                    "output_type": "display_data",
                    "data": {
                        "text/html": "Commands completed successfully."
                    },
                    "metadata": {}
                },
                {
                    "output_type": "display_data",
                    "data": {
                        "text/html": "(5 rows affected)"
                    },
                    "metadata": {}
                },
                {
                    "output_type": "display_data",
                    "data": {
                        "text/html": "Total execution time: 00:00:00.735"
                    },
                    "metadata": {}
                }
            ],
            "execution_count": 1
        },
        {
            "cell_type": "markdown",
            "source": [
                "Paso 2. Crear usuarios de prueba"
            ],
            "metadata": {
                "language": "sql",
                "azdata_cell_guid": "0e72fa86-4363-45c9-850e-00fd38b847dc"
            },
            "attachments": {}
        },
        {
            "cell_type": "code",
            "source": [
                "CREATE USER EU_testuser WITH PASSWORD = 'Galleta_09';\r\n",
                "CREATE USER NA_testuser WITH PASSWORD = 'Galleta_09';"
            ],
            "metadata": {
                "language": "sql",
                "azdata_cell_guid": "f92a3b4a-3dcb-4a93-9959-3a614b926f9e"
            },
            "outputs": [
                {
                    "output_type": "display_data",
                    "data": {
                        "text/html": "Commands completed successfully."
                    },
                    "metadata": {}
                },
                {
                    "output_type": "display_data",
                    "data": {
                        "text/html": "Total execution time: 00:00:00.011"
                    },
                    "metadata": {}
                }
            ],
            "execution_count": 2
        },
        {
            "cell_type": "code",
            "source": [
                "GRANT SELECT ON demo.customers to EU_testuser;\r\n",
                "GRANT SELECT ON demo.customers to NA_testuser;"
            ],
            "metadata": {
                "language": "sql",
                "azdata_cell_guid": "7ef088b5-66bb-450e-9a38-a5d1a89c327c"
            },
            "outputs": [
                {
                    "output_type": "display_data",
                    "data": {
                        "text/html": "Commands completed successfully."
                    },
                    "metadata": {}
                },
                {
                    "output_type": "display_data",
                    "data": {
                        "text/html": "Total execution time: 00:00:00.003"
                    },
                    "metadata": {}
                }
            ],
            "execution_count": 3
        },
        {
            "cell_type": "markdown",
            "source": [
                "Paso 3. Crear función de filtrado"
            ],
            "metadata": {
                "language": "sql",
                "azdata_cell_guid": "1f47d3bd-2138-4a5e-879d-c93e3079d44b"
            },
            "attachments": {}
        },
        {
            "cell_type": "code",
            "source": [
                "CREATE FUNCTION demo.RestrictCustomers(@country as sysname)\r\n",
                "RETURNS TABLE WITH SCHEMABINDING AS\r\n",
                "RETURN SELECT 1 AS res\r\n",
                "WHERE\r\n",
                "(@country IN ('DK', 'BE', 'ES') AND user_name() LIKE 'EU_%') OR\r\n",
                "(@country IN ('US', 'CA') AND user_name() LIKE 'NA_%') OR\r\n",
                "(suser_name() = 'sa')"
            ],
            "metadata": {
                "language": "sql",
                "azdata_cell_guid": "44594618-94e5-41d3-90de-a83ec07ebb6c",
                "tags": []
            },
            "outputs": [
                {
                    "output_type": "display_data",
                    "data": {
                        "text/html": "Commands completed successfully."
                    },
                    "metadata": {}
                },
                {
                    "output_type": "display_data",
                    "data": {
                        "text/html": "Total execution time: 00:00:00.005"
                    },
                    "metadata": {}
                }
            ],
            "execution_count": 4
        },
        {
            "cell_type": "markdown",
            "source": [
                "Paso 4. Aplicar la función de filtrado como política de seguridad"
            ],
            "metadata": {
                "language": "sql",
                "azdata_cell_guid": "4d13219b-46fa-4b76-b8a3-946c45fef551"
            },
            "attachments": {}
        },
        {
            "cell_type": "code",
            "source": [
                "CREATE SECURITY POLICY CustomersPolicy\r\n",
                "ADD FILTER PREDICATE demo.RestrictCustomers(country)\r\n",
                "ON demo.customers\r\n",
                "WITH (state = on)"
            ],
            "metadata": {
                "language": "sql",
                "azdata_cell_guid": "9e08d277-2e79-49a1-b187-84d48ed6132b",
                "tags": []
            },
            "outputs": [
                {
                    "output_type": "display_data",
                    "data": {
                        "text/html": "Commands completed successfully."
                    },
                    "metadata": {}
                },
                {
                    "output_type": "display_data",
                    "data": {
                        "text/html": "Total execution time: 00:00:00.004"
                    },
                    "metadata": {}
                }
            ],
            "execution_count": 5
        },
        {
            "cell_type": "markdown",
            "source": [
                "Paso 5. Ejecutar el comando como EU\\_testuser y el usuario NA\\_testuser"
            ],
            "metadata": {
                "language": "sql",
                "azdata_cell_guid": "f10aee75-5096-4b75-a770-70cddf0e3426"
            },
            "attachments": {}
        },
        {
            "cell_type": "code",
            "source": [
                "EXECUTE AS user = 'EU_testuser'\r\n",
                "select * from demo.customers\r\n",
                "REVERT"
            ],
            "metadata": {
                "language": "sql",
                "azdata_cell_guid": "5408bd4d-defc-45b8-a18f-36706985e6ba"
            },
            "outputs": [
                {
                    "output_type": "display_data",
                    "data": {
                        "text/html": "(3 rows affected)"
                    },
                    "metadata": {}
                },
                {
                    "output_type": "display_data",
                    "data": {
                        "text/html": "Total execution time: 00:00:00.013"
                    },
                    "metadata": {}
                },
                {
                    "output_type": "execute_result",
                    "metadata": {},
                    "execution_count": 6,
                    "data": {
                        "application/vnd.dataresource+json": {
                            "schema": {
                                "fields": [
                                    {
                                        "name": "id"
                                    },
                                    {
                                        "name": "name"
                                    },
                                    {
                                        "name": "country"
                                    }
                                ]
                            },
                            "data": [
                                {
                                    "0": "2",
                                    "1": "Bruno",
                                    "2": "BE"
                                },
                                {
                                    "0": "4",
                                    "1": "Daniella",
                                    "2": "DK"
                                },
                                {
                                    "0": "5",
                                    "1": "Eric",
                                    "2": "ES"
                                }
                            ]
                        },
                        "text/html": [
                            "<table>",
                            "<tr><th>id</th><th>name</th><th>country</th></tr>",
                            "<tr><td>2</td><td>Bruno</td><td>BE</td></tr>",
                            "<tr><td>4</td><td>Daniella</td><td>DK</td></tr>",
                            "<tr><td>5</td><td>Eric</td><td>ES</td></tr>",
                            "</table>"
                        ]
                    }
                }
            ],
            "execution_count": 6
        },
        {
            "cell_type": "code",
            "source": [
                "EXECUTE AS user = 'NA_testuser'\r\n",
                "select * from demo.customers\r\n",
                "REVERT"
            ],
            "metadata": {
                "language": "sql",
                "azdata_cell_guid": "d1dbde13-4fb9-4799-80a2-afa8419560cf"
            },
            "outputs": [
                {
                    "output_type": "display_data",
                    "data": {
                        "text/html": "(1 row affected)"
                    },
                    "metadata": {}
                },
                {
                    "output_type": "display_data",
                    "data": {
                        "text/html": "Total execution time: 00:00:00.010"
                    },
                    "metadata": {}
                },
                {
                    "output_type": "execute_result",
                    "execution_count": 13,
                    "data": {
                        "application/vnd.dataresource+json": {
                            "schema": {
                                "fields": [
                                    {
                                        "name": "id"
                                    },
                                    {
                                        "name": "name"
                                    },
                                    {
                                        "name": "country"
                                    }
                                ]
                            },
                            "data": [
                                {
                                    "0": "3",
                                    "1": "Charles",
                                    "2": "CA"
                                }
                            ]
                        },
                        "text/html": "<table><tr><th>id</th><th>name</th><th>country</th></tr><tr><td>3</td><td>Charles</td><td>CA</td></tr></table>"
                    },
                    "metadata": {}
                }
            ],
            "execution_count": 13
        },
        {
            "cell_type": "markdown",
            "source": [
                "## Aplicar seguridad de renglón para operaciones de escritura"
            ],
            "metadata": {
                "language": "sql",
                "azdata_cell_guid": "c1e023de-f1e5-4f73-b5d1-ebddbbb34f12"
            },
            "attachments": {}
        },
        {
            "cell_type": "code",
            "source": [
                "ALTER SECURITY POLICY CustomersPolicy\r\n",
                "ADD BLOCK PREDICATE demo.RestrictCustomers(country)\r\n",
                "ON demo.customers AFTER INSERT"
            ],
            "metadata": {
                "language": "sql",
                "azdata_cell_guid": "19e28be1-cab9-42b5-94cb-0fe72aaccecb",
                "tags": []
            },
            "outputs": [
                {
                    "output_type": "display_data",
                    "data": {
                        "text/html": "Commands completed successfully."
                    },
                    "metadata": {}
                },
                {
                    "output_type": "display_data",
                    "data": {
                        "text/html": "Total execution time: 00:00:00.005"
                    },
                    "metadata": {}
                }
            ],
            "execution_count": 7
        },
        {
            "cell_type": "code",
            "source": [
                "GRANT INSERT ON SCHEMA::demo TO EU_testuser"
            ],
            "metadata": {
                "language": "sql",
                "azdata_cell_guid": "5e5ceeb6-023e-47de-8d67-d2a548270840"
            },
            "outputs": [
                {
                    "output_type": "display_data",
                    "data": {
                        "text/html": "Commands completed successfully."
                    },
                    "metadata": {}
                },
                {
                    "output_type": "display_data",
                    "data": {
                        "text/html": "Total execution time: 00:00:00.001"
                    },
                    "metadata": {}
                }
            ],
            "execution_count": 8
        },
        {
            "cell_type": "markdown",
            "source": [
                "Pruebas de inserción"
            ],
            "metadata": {
                "language": "sql",
                "azdata_cell_guid": "5a02ff23-5782-4077-9fb0-3061c325f878"
            },
            "attachments": {}
        },
        {
            "cell_type": "code",
            "source": [
                "EXECUTE AS user = 'EU_testuser'\r\n",
                "INSERT INTO demo.customers VALUES (100, 'Didi', 'DK')\r\n",
                "REVERT"
            ],
            "metadata": {
                "language": "sql",
                "azdata_cell_guid": "ff39f67e-6cb2-4dd8-8cea-090a171e8e12"
            },
            "outputs": [
                {
                    "output_type": "display_data",
                    "data": {
                        "text/html": "(1 row affected)"
                    },
                    "metadata": {}
                },
                {
                    "output_type": "display_data",
                    "data": {
                        "text/html": "Total execution time: 00:00:00.008"
                    },
                    "metadata": {}
                }
            ],
            "execution_count": 9
        },
        {
            "cell_type": "code",
            "source": [
                "EXECUTE AS user = 'EU_testuser'\r\n",
                "INSERT INTO demo.customers VALUES (150, 'Argento', 'AR')\r\n",
                "REVERT"
            ],
            "metadata": {
                "language": "sql",
                "azdata_cell_guid": "8e9469f8-85e9-49cc-b3b5-17f274d9a810"
            },
            "outputs": [
                {
                    "output_type": "error",
                    "evalue": "Msg 33504, Level 16, State 1, Line 2\r\nThe attempted operation failed because the target object 'TestDB_RLS.demo.customers' has a block predicate that conflicts with this operation. If the operation is performed on a view, the block predicate might be enforced on the underlying table. Modify the operation to target only the rows that are allowed by the block predicate.",
                    "ename": "",
                    "traceback": []
                },
                {
                    "output_type": "display_data",
                    "data": {
                        "text/html": "The statement has been terminated."
                    },
                    "metadata": {}
                },
                {
                    "output_type": "display_data",
                    "data": {
                        "text/html": "Total execution time: 00:00:00.008"
                    },
                    "metadata": {}
                }
            ],
            "execution_count": 10
        }
    ]
}