{
    "metadata": {
        "kernelspec": {
            "name": "SQL",
            "display_name": "SQL",
            "language": "sql"
        },
        "language_info": {
            "name": "sql",
            "version": ""
        }
    },
    "nbformat_minor": 2,
    "nbformat": 4,
    "cells": [
        {
            "cell_type": "markdown",
            "source": [
                "# Habilitar cifrado en base de datos local\n",
                "\n",
                "Paso 1:  Crear llave maestra en la base de datos master"
            ],
            "metadata": {
                "azdata_cell_guid": "3af5ef2b-b64f-4881-aeea-f9b9856033a3",
                "language": ""
            },
            "attachments": {}
        },
        {
            "cell_type": "code",
            "source": [
                "USE master;\n",
                "GO\n",
                "\n",
                "CREATE MASTER KEY ENCRYPTION BY PASSWORD = 'password1234'"
            ],
            "metadata": {
                "azdata_cell_guid": "487afe09-b4e7-4369-8c44-083f92da7168",
                "language": "sql"
            },
            "outputs": [
                {
                    "output_type": "display_data",
                    "data": {
                        "text/html": "Commands completed successfully."
                    },
                    "metadata": {}
                },
                {
                    "output_type": "display_data",
                    "data": {
                        "text/html": "Commands completed successfully."
                    },
                    "metadata": {}
                },
                {
                    "output_type": "display_data",
                    "data": {
                        "text/html": "Total execution time: 00:00:00.017"
                    },
                    "metadata": {}
                }
            ],
            "execution_count": 1
        },
        {
            "cell_type": "markdown",
            "source": [
                "Paso 2:  Crear certificado en la base de datos master"
            ],
            "metadata": {
                "azdata_cell_guid": "bc970b86-220b-493f-a2bc-a69877627701",
                "language": "sql"
            },
            "attachments": {}
        },
        {
            "cell_type": "code",
            "source": [
                "CREATE CERTIFICATE ServerCert WITH SUBJECT = 'mi_cert';"
            ],
            "metadata": {
                "azdata_cell_guid": "78a2e166-05e3-4778-8d67-7b1f5abf4900",
                "language": "sql"
            },
            "outputs": [
                {
                    "output_type": "display_data",
                    "data": {
                        "text/html": "Commands completed successfully."
                    },
                    "metadata": {}
                },
                {
                    "output_type": "display_data",
                    "data": {
                        "text/html": "Total execution time: 00:00:00.074"
                    },
                    "metadata": {}
                }
            ],
            "execution_count": 2
        },
        {
            "cell_type": "markdown",
            "source": [
                "Paso 3: Crear llave de cifrado utilizando el certificado que acabamos de crear"
            ],
            "metadata": {
                "azdata_cell_guid": "14a0d6cb-552a-4802-8f86-77df80da414f",
                "language": "sql"
            },
            "attachments": {}
        },
        {
            "cell_type": "code",
            "source": [
                "USE AdventureWorksLT2019\n",
                "GO\n",
                " CREATE DATABASE ENCRYPTION KEY WITH ALGORITHM = AES_256 ENCRYPTION BY SERVER CERTIFICATE ServerCert;\n",
                "GO"
            ],
            "metadata": {
                "azdata_cell_guid": "44303090-e344-4ac1-8b26-125a3f5fee84",
                "language": "sql"
            },
            "outputs": [
                {
                    "output_type": "display_data",
                    "data": {
                        "text/html": "Commands completed successfully."
                    },
                    "metadata": {}
                },
                {
                    "output_type": "display_data",
                    "data": {
                        "text/html": "Warning: The certificate used for encrypting the database encryption key has not been backed up. You should immediately back up the certificate and the private key associated with the certificate. If the certificate ever becomes unavailable or if you must restore or attach the database on another server, you must have backups of both the certificate and the private key or you will not be able to open the database."
                    },
                    "metadata": {}
                },
                {
                    "output_type": "display_data",
                    "data": {
                        "text/html": "Total execution time: 00:00:00.023"
                    },
                    "metadata": {}
                }
            ],
            "execution_count": 3
        },
        {
            "cell_type": "markdown",
            "source": [
                "Paso 4: Activar el cifrado en la base de datos"
            ],
            "metadata": {
                "azdata_cell_guid": "b48734d0-0588-496f-a160-662dfaeef4d4",
                "language": "sql"
            },
            "attachments": {}
        },
        {
            "cell_type": "code",
            "source": [
                "ALTER DATABASE AdventureWorksLT2019 SET ENCRYPTION ON;"
            ],
            "metadata": {
                "azdata_cell_guid": "b7e28969-7030-4394-8d3d-5a2c61a2672d",
                "language": "sql"
            },
            "outputs": [
                {
                    "output_type": "display_data",
                    "data": {
                        "text/html": "Commands completed successfully."
                    },
                    "metadata": {}
                },
                {
                    "output_type": "display_data",
                    "data": {
                        "text/html": "Total execution time: 00:00:00.057"
                    },
                    "metadata": {}
                }
            ],
            "execution_count": 4
        },
        {
            "cell_type": "markdown",
            "source": [
                "Paso 5: Hacer Backup del certificado"
            ],
            "metadata": {
                "azdata_cell_guid": "b6b56121-9a5a-4635-b5c7-f288ed1aa846",
                "language": "sql"
            },
            "attachments": {}
        },
        {
            "cell_type": "code",
            "source": [
                "USE master\n",
                "GO\n",
                "\n",
                "BACKUP CERTIFICATE ServerCert TO FILE = 'C:\\Temp\\my_server_cert.cert'\n",
                "WITH PRIVATE KEY   \n",
                "      (   \n",
                "        FILE ='C:\\Temp\\private_key.pvk',  \n",
                "        ENCRYPTION BY PASSWORD ='password1234'   \n",
                "      )  "
            ],
            "metadata": {
                "azdata_cell_guid": "83981432-ce56-4012-a7ec-6d4c42d7ad1d",
                "language": "sql"
            },
            "outputs": [
                {
                    "output_type": "display_data",
                    "data": {
                        "text/html": "Commands completed successfully."
                    },
                    "metadata": {}
                },
                {
                    "output_type": "display_data",
                    "data": {
                        "text/html": "Commands completed successfully."
                    },
                    "metadata": {}
                },
                {
                    "output_type": "display_data",
                    "data": {
                        "text/html": "Total execution time: 00:00:00.009"
                    },
                    "metadata": {}
                }
            ],
            "execution_count": 5
        }
    ]
}