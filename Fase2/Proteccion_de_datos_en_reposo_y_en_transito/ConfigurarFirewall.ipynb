{
    "metadata": {
        "kernelspec": {
            "name": "SQL",
            "display_name": "SQL",
            "language": "sql"
        },
        "language_info": {
            "name": "sql",
            "version": ""
        }
    },
    "nbformat_minor": 2,
    "nbformat": 4,
    "cells": [
        {
            "cell_type": "code",
            "source": [
                "use master;\r\n",
                "\r\n",
                "SELECT * FROM sys.firewall_rules;"
            ],
            "metadata": {
                "azdata_cell_guid": "d2d4d162-e2cd-4d80-8d8b-d9a646a0e2e6",
                "language": "sql"
            },
            "outputs": [
                {
                    "output_type": "display_data",
                    "data": {
                        "text/html": "(2 rows affected)"
                    },
                    "metadata": {}
                },
                {
                    "output_type": "display_data",
                    "data": {
                        "text/html": "Total execution time: 00:00:00.072"
                    },
                    "metadata": {}
                },
                {
                    "output_type": "execute_result",
                    "metadata": {},
                    "execution_count": 1,
                    "data": {
                        "application/vnd.dataresource+json": {
                            "schema": {
                                "fields": [
                                    {
                                        "name": "id"
                                    },
                                    {
                                        "name": "name"
                                    },
                                    {
                                        "name": "start_ip_address"
                                    },
                                    {
                                        "name": "end_ip_address"
                                    },
                                    {
                                        "name": "create_date"
                                    },
                                    {
                                        "name": "modify_date"
                                    }
                                ]
                            },
                            "data": [
                                {
                                    "0": "2",
                                    "1": "AllowAllWindowsAzureIps",
                                    "2": "0.0.0.0",
                                    "3": "0.0.0.0",
                                    "4": "2022-07-17 11:33:31.963",
                                    "5": "2022-07-17 11:33:31.963"
                                },
                                {
                                    "0": "1",
                                    "1": "ClientIPAddress_2022-7-17_5-33-26",
                                    "2": "201.146.29.242",
                                    "3": "201.146.29.242",
                                    "4": "2022-07-17 11:33:31.873",
                                    "5": "2022-07-17 11:33:31.873"
                                }
                            ]
                        },
                        "text/html": [
                            "<table>",
                            "<tr><th>id</th><th>name</th><th>start_ip_address</th><th>end_ip_address</th><th>create_date</th><th>modify_date</th></tr>",
                            "<tr><td>2</td><td>AllowAllWindowsAzureIps</td><td>0.0.0.0</td><td>0.0.0.0</td><td>2022-07-17 11:33:31.963</td><td>2022-07-17 11:33:31.963</td></tr>",
                            "<tr><td>1</td><td>ClientIPAddress_2022-7-17_5-33-26</td><td>201.146.29.242</td><td>201.146.29.242</td><td>2022-07-17 11:33:31.873</td><td>2022-07-17 11:33:31.873</td></tr>",
                            "</table>"
                        ]
                    }
                }
            ],
            "execution_count": 1
        },
        {
            "cell_type": "code",
            "source": [
                "EXEC sp_set_database_firewall_rule N'Allow all azure resources', '0.0.0.0', '0.0.0.0';"
            ],
            "metadata": {
                "azdata_cell_guid": "7d1cb47d-0d1f-4b6e-88e3-ec37dd8d62e7",
                "language": "sql"
            },
            "outputs": [],
            "execution_count": null
        },
        {
            "cell_type": "code",
            "source": [
                "EXEC sp_delete_database_firewall_rule N'Allow all azure resources';"
            ],
            "metadata": {
                "language": "sql",
                "azdata_cell_guid": "61983452-9c47-4c76-8047-5ee7454dd72f"
            },
            "outputs": [],
            "execution_count": null
        }
    ]
}